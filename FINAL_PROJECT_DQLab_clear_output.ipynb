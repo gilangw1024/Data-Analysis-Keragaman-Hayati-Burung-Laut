{
  "cells": [
    {
      "cell_type": "code",
      "execution_count": null,
      "metadata": {
        "id": "Pw46TVlJee3E"
      },
      "outputs": [],
      "source": [
        "# Data handling\n",
        "import pandas as pd\n",
        "import numpy as np\n",
        "\n",
        "# Spatial analysis\n",
        "import geopandas as gpd\n",
        "from shapely.geometry import Point, LineString\n",
        "from shapely.ops import nearest_points\n",
        "\n",
        "# Visualization\n",
        "import matplotlib.pyplot as plt\n",
        "import seaborn as sns\n",
        "import folium\n",
        "\n",
        "# Biodiversity indices\n",
        "from scipy.stats import entropy  # Shannon Index\n",
        "from collections import Counter  # Hitung proporsi spesies"
      ]
    },
    {
      "cell_type": "markdown",
      "metadata": {
        "id": "e4Pew9zZeHm-"
      },
      "source": [
        "## **1. Import dan Eksplorasi Data**"
      ]
    },
    {
      "cell_type": "markdown",
      "metadata": {
        "id": "ROV18Ovkjj45"
      },
      "source": [
        "Data yang digunakan dalam proyek ini berasal dari penelitian yang diselenggarakan oleh Elliot Morley untuk sensus burung laut yang berkembangbiak di Britania Raya dari tahun 1998 sampai 2002. Metode yang digunakan telah dijelaskan pada website BioTime sebagai berikut:"
      ]
    },
    {
      "cell_type": "markdown",
      "metadata": {
        "id": "H_5aXdJMkDpx"
      },
      "source": [
        "*Seabird Populations of Britain and Ireland summarises the results of Seabird 2000 ? a census ofall seabirds breeding in Britain and Ireland during 1998-2002. Seabird 2000 was launched on 12April 1999 by Elliot Morley MP and fieldwork was completed in 2002. Over 1000 surveyors tookpart and censused 3.200 colonies along 40.000 km of coastline and at 900 inland sites.Seabird 2000 followed on from two previous censuses: Operation Seafarer in 1969-70 and TheSeabird Colony Register in 1985-88. thus allowing population trends over 15-30 years to beassessed. In contrast to the previous two censuses. Seabird 2000 surveyed inland colonies ofseabirds. namely Black-headed Gulls. Common Gulls. Lesser Black-backed Gulls. GreatCormorants and Common Terns. Unit of abundance = AggregatedPresence, Unit of biomass = NA*"
      ]
    },
    {
      "cell_type": "markdown",
      "metadata": {
        "id": "e-XYVZdBxN6-"
      },
      "source": [
        "Sumber data: biotime.st-andrews.ac.uk/selectStudy.php?study=69"
      ]
    },
    {
      "cell_type": "markdown",
      "metadata": {
        "id": "LAtecp2Wx198"
      },
      "source": [
        "*   Jenis habitat: Pesisir (Marine)\n",
        "*   Iklim: Sedang (Temperate)\n",
        "*   Bioma: Ekoregion Laut\n",
        "*   Garis tengah Lintang : 54.783267 LU\n",
        "*   Garis tengah Bujur : -4.263030 BB\n",
        "*   Durasi: 10 tahun, dari 1994 sampai 2003"
      ]
    },
    {
      "cell_type": "code",
      "execution_count": null,
      "metadata": {
        "id": "fu0bDUw2eDYJ"
      },
      "outputs": [],
      "source": [
        "#Unggah Data\n",
        "df = pd.read_csv('/content/raw_data_69.csv')\n",
        "\n",
        "#Lihat 5 baris pertama data\n",
        "df.head()"
      ]
    },
    {
      "cell_type": "code",
      "execution_count": null,
      "metadata": {
        "id": "wHgkMT2Lgj1g"
      },
      "outputs": [],
      "source": [
        "#cek duplikat\n",
        "df.duplicated().sum()"
      ]
    },
    {
      "cell_type": "code",
      "execution_count": null,
      "metadata": {
        "id": "gVqUaFBThv5g"
      },
      "outputs": [],
      "source": [
        "#cek dataframe info\n",
        "df.info()"
      ]
    },
    {
      "cell_type": "markdown",
      "metadata": {
        "id": "DbD4TM-piTk4"
      },
      "source": [
        "Dari data yang tersedia sebanyak 11663 tidak ditemui data yang kosong, namun terdapat satu kolom yang dinilai tidak valid karena tidak berisi data, yaitu biomas. Maka kolom tersebut drop."
      ]
    },
    {
      "cell_type": "code",
      "execution_count": null,
      "metadata": {
        "id": "aKS1FvZCirX_"
      },
      "outputs": [],
      "source": [
        "#drop kolom biommas\n",
        "df.drop(columns='BIOMAS', inplace=True)"
      ]
    },
    {
      "cell_type": "markdown",
      "metadata": {
        "id": "TBqzjD26kXRG"
      },
      "source": [
        "# **Telaah Data**"
      ]
    },
    {
      "cell_type": "markdown",
      "metadata": {
        "id": "D6sX58OYkbau"
      },
      "source": [
        "Data terdiri dari berbagai jenis sampel populasi burung laut yang hidup di pesisir Britania Raya. Sampel data adalah banyaknya individu (abundance) saat pengamatan dilakukan."
      ]
    },
    {
      "cell_type": "code",
      "execution_count": null,
      "metadata": {
        "id": "yAwTvVR3is42"
      },
      "outputs": [],
      "source": [
        "#daftar spesies yang teramati\n",
        "df['valid_name'].unique()"
      ]
    },
    {
      "cell_type": "code",
      "execution_count": null,
      "metadata": {
        "id": "MV5ouCBRkj5d"
      },
      "outputs": [],
      "source": [
        "#jumlah kemunculan spesies\n",
        "df['valid_name'].value_counts()\n"
      ]
    },
    {
      "cell_type": "code",
      "execution_count": null,
      "metadata": {
        "id": "Y06bq_1PrrKz"
      },
      "outputs": [],
      "source": [
        "#Statistik deskriptif tahun pengamatan\n",
        "df['ABUNDANCE'].describe()"
      ]
    },
    {
      "cell_type": "markdown",
      "metadata": {
        "id": "LK6QZBu_r_q1"
      },
      "source": [
        "Berdasarkan analisis deskriptif, rata-rata pengamatan menjumpai 2 individu per pengamatan. Variasi pengamatan ada pada standar deviasi 1.85 yang menandai pengamatan jumlah individu antara 0.16 sampai 3.8 ekor. Namun terdapat outlier seperti jumlah pengamatan sebanyak 24 ekor, sebab beberapa wilayah terdiri dari koloni yang besar karena preferensi habitat."
      ]
    },
    {
      "cell_type": "markdown",
      "metadata": {
        "id": "6lYEMZrorYFT"
      },
      "source": [
        "# Tahun Pengamatan"
      ]
    },
    {
      "cell_type": "code",
      "execution_count": null,
      "metadata": {
        "id": "CpOEBaWgmUbp"
      },
      "outputs": [],
      "source": [
        "#Cek distribusi tahun pengamatan\n",
        "df['YEAR'].value_counts().sort_index()"
      ]
    },
    {
      "cell_type": "code",
      "execution_count": null,
      "metadata": {
        "id": "O5bjgOGlnYor"
      },
      "outputs": [],
      "source": [
        "import matplotlib.pyplot as plt\n",
        "\n",
        "year_counts = df['YEAR'].value_counts().sort_index()\n",
        "colors = ['red' if year in [1994, 1995, 1996, 1997, 2003] else 'skyblue' for year in year_counts.index]\n",
        "\n",
        "plt.figure(figsize=(10, 5))\n",
        "plt.bar(year_counts.index, year_counts.values, color=colors)\n",
        "plt.xlabel('Tahun Pengamatan')\n",
        "plt.ylabel('Jumlah Baris Data')\n",
        "plt.title('Distribusi Tahun Pengamatan (Outlier Ditandai)')\n",
        "plt.xticks(rotation=45)\n",
        "plt.tight_layout()\n",
        "plt.show()\n"
      ]
    },
    {
      "cell_type": "markdown",
      "metadata": {
        "id": "s79ddHOqne-6"
      },
      "source": [
        "Terdapat outlier pada tahun 1994 sampai 1997 dan 2003. Pada tahun-tahun tersebut bisa saja muncul spesies tertentu yang muncul, sehingga outlier tidak dihapus."
      ]
    },
    {
      "cell_type": "markdown",
      "metadata": {
        "id": "7IbyjAUlrdt9"
      },
      "source": [
        "# Lokasi Pengamatan"
      ]
    },
    {
      "cell_type": "code",
      "execution_count": null,
      "metadata": {
        "id": "9k6JF98zoVgm"
      },
      "outputs": [],
      "source": [
        "#cek kordinat ekstrem\n",
        "df[['LATITUDE', 'LONGITUDE']].agg(['min', 'max'])"
      ]
    },
    {
      "cell_type": "code",
      "execution_count": null,
      "metadata": {
        "id": "siI8Ahbvo0ML"
      },
      "outputs": [],
      "source": [
        "#Memperlihatkan area penelitian pada folium\n",
        "\n",
        "# Titik ekstrem\n",
        "north = df[df['LATITUDE'] == df['LATITUDE'].max()].iloc[0]\n",
        "south = df[df['LATITUDE'] == df['LATITUDE'].min()].iloc[0]\n",
        "east  = df[df['LONGITUDE'] == df['LONGITUDE'].max()].iloc[0]\n",
        "west  = df[df['LONGITUDE'] == df['LONGITUDE'].min()].iloc[0]\n",
        "\n",
        "# Peta dasar\n",
        "center_lat = df['LATITUDE'].mean()\n",
        "center_lon = df['LONGITUDE'].mean()\n",
        "m = folium.Map(location=[center_lat, center_lon], zoom_start=5)\n",
        "\n",
        "# Tambahkan marker\n",
        "folium.Marker([north['LATITUDE'], north['LONGITUDE']], popup='Paling Utara').add_to(m)\n",
        "folium.Marker([south['LATITUDE'], south['LONGITUDE']], popup='Paling Selatan').add_to(m)\n",
        "folium.Marker([east['LATITUDE'], east['LONGITUDE']], popup='Paling Timur').add_to(m)\n",
        "folium.Marker([west['LATITUDE'], west['LONGITUDE']], popup='Paling Barat').add_to(m)\n",
        "\n",
        "# Cakupan penelitian\n",
        "lat_min = df['LATITUDE'].min()\n",
        "lat_max = df['LATITUDE'].max()\n",
        "lon_min = df['LONGITUDE'].min()\n",
        "lon_max = df['LONGITUDE'].max()\n",
        "\n",
        "rectangle_coords = [\n",
        "    [lat_min, lon_min],  # Sudut kiri bawah\n",
        "    [lat_min, lon_max],  # Sudut kanan bawah\n",
        "    [lat_max, lon_max],  # Sudut kanan atas\n",
        "    [lat_max, lon_min],  # Sudut kiri atas\n",
        "    [lat_min, lon_min]   # Tutup loop ke titik awal\n",
        "]\n",
        "\n",
        "folium.PolyLine(locations=rectangle_coords, color='green', weight=2.5, opacity=0.8).add_to(m)\n",
        "\n",
        "# Tampilkan peta\n",
        "m\n"
      ]
    },
    {
      "cell_type": "markdown",
      "source": [
        "# Cetak Peta"
      ],
      "metadata": {
        "id": "R2ncrASLEJJ5"
      }
    },
    {
      "cell_type": "code",
      "source": [
        "from shapely.geometry import Polygon\n",
        "import geopandas as gpd\n",
        "import matplotlib.pyplot as plt\n",
        "\n",
        "# Ambil batas koordinat dari dataframe\n",
        "lat_min, lat_max = df['LATITUDE'].min(), df['LATITUDE'].max()\n",
        "lon_min, lon_max = df['LONGITUDE'].min(), df['LONGITUDE'].max()\n",
        "\n",
        "# Buat polygon area penelitian (persegi)\n",
        "rectangle = Polygon([\n",
        "    (lon_min, lat_min),\n",
        "    (lon_max, lat_min),\n",
        "    (lon_max, lat_max),\n",
        "    (lon_min, lat_max),\n",
        "    (lon_min, lat_min)  # Tutup loop\n",
        "])\n",
        "\n",
        "# Buat GeoDataFrame untuk area\n",
        "area_gdf = gpd.GeoDataFrame(index=[0], geometry=[rectangle], crs=\"EPSG:4326\")\n",
        "\n",
        "# Titik ekstrem\n",
        "north = df[df['LATITUDE'] == lat_max].iloc[0]\n",
        "south = df[df['LATITUDE'] == lat_min].iloc[0]\n",
        "east  = df[df['LONGITUDE'] == lon_max].iloc[0]\n",
        "west  = df[df['LONGITUDE'] == lon_min].iloc[0]\n",
        "\n",
        "# Buat GeoDataFrame koloni\n",
        "geometry = [Point(xy) for xy in zip(df['LONGITUDE'], df['LATITUDE'])]\n",
        "colonies = gpd.GeoDataFrame(df, geometry=geometry, crs=\"EPSG:4326\")\n",
        "\n",
        "fig, ax = plt.subplots(figsize=(10, 8))\n",
        "\n",
        "# Plot area penelitian\n",
        "area_gdf.boundary.plot(ax=ax, color='green', linewidth=2, label='Cakupan Penelitian')\n",
        "\n",
        "# Plot titik ekstrem\n",
        "for label, point, color in zip(\n",
        "    ['Utara', 'Selatan', 'Timur', 'Barat'],\n",
        "    [north, south, east, west],\n",
        "    ['blue', 'red', 'orange', 'purple']\n",
        "):\n",
        "    gpd.GeoSeries([Point(point['LONGITUDE'], point['LATITUDE'])]).plot(ax=ax, color=color, markersize=50)\n",
        "    ax.text(point['LONGITUDE'], point['LATITUDE'] + 0.2, label, fontsize=10, ha='center', color=color)\n",
        "\n",
        "# Plot semua titik koloni\n",
        "colonies.plot(ax=ax, color='gray', markersize=5, alpha=0.5, label='Koloni Burung Laut')\n",
        "\n",
        "# Styling\n",
        "ax.set_title(\"Peta Area Penelitian Burung Laut\", fontsize=14)\n",
        "ax.set_xlabel(\"Longitude\")\n",
        "ax.set_ylabel(\"Latitude\")\n",
        "ax.legend()\n",
        "plt.tight_layout()\n",
        "plt.savefig(\"peta_area_penelitian.png\", dpi=300)\n",
        "plt.show()\n"
      ],
      "metadata": {
        "id": "0P8-hjTzDT6w"
      },
      "execution_count": null,
      "outputs": []
    },
    {
      "cell_type": "code",
      "source": [
        "from google.colab import files\n",
        "files.download(\"peta_area_penelitian.png\")"
      ],
      "metadata": {
        "id": "pgAO-9KFFDnC"
      },
      "execution_count": null,
      "outputs": []
    },
    {
      "cell_type": "markdown",
      "metadata": {
        "id": "YZFqpgDQt1sG"
      },
      "source": [
        "# Sampel Distribusi Spesies Terbanyak"
      ]
    },
    {
      "cell_type": "code",
      "execution_count": null,
      "metadata": {
        "id": "fiycxvYDt_nN"
      },
      "outputs": [],
      "source": [
        "# Pengamatan spesies terbanyak\n",
        "top_species = df['valid_name'].value_counts().nlargest(2).index.tolist()\n"
      ]
    },
    {
      "cell_type": "code",
      "execution_count": null,
      "metadata": {
        "id": "KB2E34ntuL40"
      },
      "outputs": [],
      "source": [
        "# Dataframe untuk 2 spesies teratas\n",
        "df_top = df[df['valid_name'].isin(top_species)]"
      ]
    },
    {
      "cell_type": "code",
      "execution_count": null,
      "metadata": {
        "id": "F0rA6-sSuR2N"
      },
      "outputs": [],
      "source": [
        "# Melihat distribusi data pada sampel 2 spesies teratas\n",
        "\n",
        "plt.figure(figsize=(8, 5))\n",
        "sns.boxplot(data=df_top, x='valid_name', y='ABUNDANCE', palette='Set2')\n",
        "plt.title('Distribusi Abundance untuk 2 Spesies Terbanyak')\n",
        "plt.xlabel('Spesies')\n",
        "plt.ylabel('Jumlah Individu per Pengamatan')\n",
        "plt.tight_layout()\n",
        "plt.show()\n"
      ]
    },
    {
      "cell_type": "markdown",
      "metadata": {
        "id": "Vt4D975HuvFn"
      },
      "source": [
        "Berdasarkan visualisasi yang dilakukan sampel burung dengan pengamatan terbanyak, diperoleh data sebagai berikut:\n",
        "\n",
        "*Fulmacus glacialis*\n",
        "- Rata-rata pengamatan sekitar 2 ekor per pengamatan.\n",
        "- Sebagian besar pengamatan mencatat 1 sampai 4 indivvidu.\n",
        "- Outlier mencapai 24 individu, ada kemungkinan konsentrasi koloni sebagai habitat pilihan.\n",
        "\n",
        "*Larus argentatus*\n",
        "- Rata-rata pengamatan sekitar 1 ekor per pengamatan.\n",
        "- Pengamatan sebagian besar hanya mencatat individu tunggal, bisa dikaitkan dengan perilaku spesies untuk hidup sendiri.\n",
        "- Outlier sapai 10 individu pada lokasi tertentu namun jarang."
      ]
    },
    {
      "cell_type": "markdown",
      "metadata": {
        "id": "qV5rRZaddSBm"
      },
      "source": [
        "## **2. Klasifikasi Jenis Burung berdasarkan Lokasi Pesisir**"
      ]
    },
    {
      "cell_type": "markdown",
      "metadata": {
        "id": "SaGg_0jCe9l2"
      },
      "source": [
        "Unggah data vektor (shp) garis pantai untuk membandingkan seberapa banyak burung yang memiliki habitat kawasan daratan dan lautan. Data shapefile garis pesisir diunduh dari halaman www.naturalearthdata.com/downloads/10m-physical-vectors/10m-coastline/"
      ]
    },
    {
      "cell_type": "code",
      "execution_count": null,
      "metadata": {
        "id": "r5ajUVC1fLdP"
      },
      "outputs": [],
      "source": [
        "# Load data shapefile\n",
        "coastline = gpd.read_file('/content/ne_10m_coastline.shp')\n",
        "\n",
        "# Atur sistem proyeksi awal untuk mendeteksi wilayah penelitian\n",
        "if coastline.crs is None:\n",
        "    coastline.set_crs(epsg=4326, inplace=True)\n",
        "\n",
        "# Ubah ke British National Grid\n",
        "coastline = coastline.to_crs(epsg=27700)\n"
      ]
    },
    {
      "cell_type": "markdown",
      "metadata": {
        "id": "_PHaa_Sih2we"
      },
      "source": [
        "# Konversi DataFrame ke GeoDataFrame"
      ]
    },
    {
      "cell_type": "markdown",
      "metadata": {
        "id": "OdzESdWLh86Y"
      },
      "source": [
        "Dari data penelitian yang ada dalam tabel/dataframe, data tersebut ditransformasikan ke geodataframe untuk mengukur klasifikasi titik pengamatan."
      ]
    },
    {
      "cell_type": "code",
      "execution_count": null,
      "metadata": {
        "id": "8gpsWFMziQZX"
      },
      "outputs": [],
      "source": [
        "# Kolom geometry yang terdiri dari rekaman latitude dan longitude\n",
        "geometry = [Point(xy) for xy in zip(df['LONGITUDE'], df['LATITUDE'])]\n",
        "\n",
        "# Buat GeoDataFrame\n",
        "colonies = gpd.GeoDataFrame(df, geometry=geometry, crs='EPSG:4326')  # proyeksi disesuaikan (CRS awal: WGS84)"
      ]
    },
    {
      "cell_type": "markdown",
      "metadata": {
        "id": "MBqZiU97ir2u"
      },
      "source": [
        "Samakan sistem proyeksi yang sudah ditentukan, yaitu British National Grid EPS=27700)"
      ]
    },
    {
      "cell_type": "code",
      "execution_count": null,
      "metadata": {
        "id": "Xh7C5TQLi0k3"
      },
      "outputs": [],
      "source": [
        "colonies = colonies.to_crs(epsg=27700)"
      ]
    },
    {
      "cell_type": "markdown",
      "metadata": {
        "id": "XiAWdN_Pi77n"
      },
      "source": [
        "Menghitung jarak ke garis pantai sesuai dengan file shp yang diunggah."
      ]
    },
    {
      "cell_type": "code",
      "execution_count": null,
      "metadata": {
        "id": "zga8jhjPjAzx"
      },
      "outputs": [],
      "source": [
        "# Fungsi untuk menghitung jarak minimum ke coastline\n",
        "def min_distance_to_coast(point, coastline_gdf):\n",
        "    return coastline_gdf.distance(point).min()\n",
        "\n",
        "# Terapkan ke semua titik koloni\n",
        "colonies['distance_to_coast_m'] = colonies.geometry.apply(lambda pt: min_distance_to_coast(pt, coastline))\n",
        "colonies['distance_to_coast_km'] = colonies['distance_to_coast_m'] / 1000"
      ]
    },
    {
      "cell_type": "markdown",
      "metadata": {
        "id": "27-zQiZpjZYZ"
      },
      "source": [
        "# Klasifikasi Lokasi berdasarkan Jarak"
      ]
    },
    {
      "cell_type": "markdown",
      "metadata": {
        "id": "F5Ls8mbIj1HY"
      },
      "source": [
        "Setelah data point ditransformasikan, data tersebut diklasifikasikan sesuai dengan jaraknya dari garis pesisir. Jika < 5 maka tergolong sebagai burung yang tinggal di kawasan pesisir, yaitu pertemuan antara daratan dan lautan."
      ]
    },
    {
      "cell_type": "code",
      "execution_count": null,
      "metadata": {
        "id": "1S2oTVvMjx_a"
      },
      "outputs": [],
      "source": [
        "# Membuat klasifikasi berdasarkan jarak\n",
        "colonies['lokasi'] = colonies['distance_to_coast_km'].apply(lambda x: 'zona transisi' if x < 5 else 'daratan atau laut lepas')"
      ]
    },
    {
      "cell_type": "code",
      "execution_count": null,
      "metadata": {
        "id": "vZx5Mhf-kQuE"
      },
      "outputs": [],
      "source": [
        "#cek hasil\n",
        "colonies[['valid_name', 'LATITUDE', 'LONGITUDE', 'distance_to_coast_km', 'lokasi']].head()"
      ]
    },
    {
      "cell_type": "markdown",
      "metadata": {
        "id": "CrnEkN6Mkem6"
      },
      "source": [
        "# Visualisasi dari Klasifikasi yang Dibuat"
      ]
    },
    {
      "cell_type": "code",
      "execution_count": null,
      "metadata": {
        "id": "BpNgX5SgkohZ"
      },
      "outputs": [],
      "source": [
        "# Peta Visualisasi klasifikasi lokasi\n",
        "m = folium.Map(location=[df['LATITUDE'].mean(), df['LONGITUDE'].mean()], zoom_start=6)\n",
        "\n",
        "for _, row in colonies.iterrows():\n",
        "    color = 'blue' if row['lokasi'] == 'zona transisi' else 'green'\n",
        "    folium.CircleMarker(\n",
        "        location=[row['LATITUDE'], row['LONGITUDE']],\n",
        "        radius=3,\n",
        "        color=color,\n",
        "        fill=True,\n",
        "        fill_opacity=0.6,\n",
        "        popup=f\"{row['valid_name']} ({row['lokasi']})\"\n",
        "    ).add_to(m)\n",
        "\n",
        "m"
      ]
    },
    {
      "cell_type": "markdown",
      "source": [
        "Burung yang teramati di zona transisi memiliki strategi untuk pemanfaatan habitat ganda, yaitu bersarang di darat dan mencari makan di laut. Selain jenis burung tersebut adalah jenis burung yang teramati jauh dari zona transisi, bisa di laut lepas ataupun daratan. Jenis burung ini memiliki daya jelajah yang luas dan spesialisasi habitat yang lebih sempit."
      ],
      "metadata": {
        "id": "cSwX3RZxrnSH"
      }
    },
    {
      "cell_type": "markdown",
      "source": [
        "# Cetak Peta"
      ],
      "metadata": {
        "id": "mYd2nsjuJa1e"
      }
    },
    {
      "cell_type": "code",
      "source": [
        "import geopandas as gpd\n",
        "import matplotlib.pyplot as plt\n",
        "from shapely.geometry import Point\n",
        "\n",
        "# Buat GeoDataFrame dari df\n",
        "geometry = [Point(xy) for xy in zip(df['LONGITUDE'], df['LATITUDE'])]\n",
        "colonies = gpd.GeoDataFrame(df, geometry=geometry, crs=\"EPSG:4326\")\n",
        "\n",
        "# Ubah ke proyeksi British National Grid (EPSG:27700)\n",
        "colonies = colonies.to_crs(epsg=27700)\n",
        "coastline = coastline.to_crs(epsg=27700)\n",
        "\n",
        "# Hitung jarak ke garis pantai\n",
        "def min_distance_to_coast(point, coastline_gdf):\n",
        "    return coastline_gdf.distance(point).min()\n",
        "\n",
        "colonies['distance_to_coast_m'] = colonies.geometry.apply(lambda pt: min_distance_to_coast(pt, coastline))\n",
        "colonies['distance_to_coast_km'] = colonies['distance_to_coast_m'] / 1000\n",
        "\n",
        "# Klasifikasi zona habitat\n",
        "colonies['lokasi'] = colonies['distance_to_coast_km'].apply(\n",
        "    lambda x: 'zona transisi' if x < 5 else 'daratan atau laut lepas'\n",
        ")\n"
      ],
      "metadata": {
        "id": "TOVaUcHIHXMN"
      },
      "execution_count": null,
      "outputs": []
    },
    {
      "cell_type": "code",
      "source": [
        "# Warna berdasarkan klasifikasi\n",
        "color_map = {\n",
        "    'zona transisi': 'blue',\n",
        "    'daratan atau laut lepas': 'green'\n",
        "}\n",
        "colors = colonies['lokasi'].map(color_map)\n",
        "\n",
        "# Plot peta\n",
        "fig, ax = plt.subplots(figsize=(10, 8))\n",
        "\n",
        "# Plot garis pantai dan koloni\n",
        "coastline.plot(ax=ax, color='lightgray', linewidth=0.5)\n",
        "colonies.plot(ax=ax, color=colors, markersize=5, alpha=0.6)\n",
        "\n",
        "# Zoom ke area Britania Raya\n",
        "ax.set_xlim(colonies.geometry.x.min() - 50000, colonies.geometry.x.max() + 50000)\n",
        "ax.set_ylim(colonies.geometry.y.min() - 50000, colonies.geometry.y.max() + 50000)\n",
        "\n",
        "# Tambahkan legenda manual\n",
        "for label, color in color_map.items():\n",
        "    ax.scatter([], [], c=color, label=label)\n",
        "ax.legend(title=\"Zona Habitat\")\n",
        "\n",
        "# Styling\n",
        "ax.set_title(\"Peta Statis Klasifikasi Lokasi Koloni Burung Laut\", fontsize=14)\n",
        "ax.set_xlabel(\"Koordinat X (meter)\")\n",
        "ax.set_ylabel(\"Koordinat Y (meter)\")\n",
        "plt.tight_layout()\n",
        "\n",
        "# Simpan dan tampilkan\n",
        "plt.savefig(\"peta_klasifikasi_lokasi.png\", dpi=300)\n",
        "plt.show()\n"
      ],
      "metadata": {
        "id": "a7Vz0xUGIWQV"
      },
      "execution_count": null,
      "outputs": []
    },
    {
      "cell_type": "code",
      "source": [
        "from google.colab import files\n",
        "files.download(\"peta_klasifikasi_lokasi.png\")"
      ],
      "metadata": {
        "id": "jsA4kZ_VJXsk"
      },
      "execution_count": null,
      "outputs": []
    },
    {
      "cell_type": "markdown",
      "source": [
        "# Statistik Deskriptif"
      ],
      "metadata": {
        "id": "2QBiKNPmsScm"
      }
    },
    {
      "cell_type": "code",
      "source": [
        "colonies.groupby('lokasi')['ABUNDANCE'].describe()"
      ],
      "metadata": {
        "id": "RKWLUhzesXtg"
      },
      "execution_count": null,
      "outputs": []
    },
    {
      "cell_type": "markdown",
      "source": [
        "Burung yang teramati pada zona transisi lebih banyak dengan rata-rata sebanyak 2.12 ekor diamati. Karakteristik ukuran pemusatan dan hampir sama, namun terdapat perbedaan standar deviasi. Pada burung laut di zona transisi sebesar 1.970974. Angka tersebut menandakan strategi koloni burung yang hampir mirip dengan data yang cukup terpusat."
      ],
      "metadata": {
        "id": "S-o363fEseOe"
      }
    },
    {
      "cell_type": "code",
      "source": [
        "plt.figure(figsize=(8, 5))\n",
        "sns.boxplot(data=colonies, x='lokasi', y='ABUNDANCE', palette='Set2')\n",
        "plt.title('Distribusi Abundance berdasarkan Zona Habitat')\n",
        "plt.xlabel('Kategori Habitat')\n",
        "plt.ylabel('Jumlah Individu per Pengamatan')\n",
        "plt.tight_layout()\n",
        "plt.show()"
      ],
      "metadata": {
        "id": "bbHOhwLWtWDW"
      },
      "execution_count": null,
      "outputs": []
    },
    {
      "cell_type": "markdown",
      "source": [
        "Dari kedua jenis burung di lokasi pengamatan yang berbeda, tidak ada perbedaan yang signifikan antar habitat. Perbedaan ada pada outlier data yang bisa disimpulkan bahwa zona transisi menyediakan habitat yang lebih optimal dan koloni besar."
      ],
      "metadata": {
        "id": "g_J77njnt2HW"
      }
    },
    {
      "cell_type": "code",
      "source": [
        "from scipy.stats import mannwhitneyu\n",
        "\n",
        "transisi = colonies[colonies['lokasi'] == 'zona transisi']['ABUNDANCE']\n",
        "non_transisi = colonies[colonies['lokasi'] == 'daratan atau laut lepas']['ABUNDANCE']\n",
        "\n",
        "stat, p = mannwhitneyu(transisi, non_transisi, alternative='two-sided')\n",
        "print(f'Uji Mann-Whitney: Statistik={stat}, p-value={p}')\n"
      ],
      "metadata": {
        "id": "d5GwKL8LuJXw"
      },
      "execution_count": null,
      "outputs": []
    },
    {
      "cell_type": "markdown",
      "source": [
        "Berdasarkan uji statistik menggunakan Uji Mann-Whitney U, diperoleh habitat sangat berpengaruh pada jumlah individu yang teramati. Nilai p-value adalah 1.780513584651321e-19 yang sangat jauh di bawah p = 0.05."
      ],
      "metadata": {
        "id": "piwnORjHutfg"
      }
    },
    {
      "cell_type": "markdown",
      "source": [
        "## **3. Indeks Keragaman Spesies (Shannon Index dan Simpson Index)**"
      ],
      "metadata": {
        "id": "j31K3tjvvcuI"
      }
    },
    {
      "cell_type": "markdown",
      "source": [
        "Ekosistem tidak terlepas dari keragaman unsur biotik dan abiotik penyusun lingkungan hidup. Semakin beragamnya ekosistem menandakan semakin kompleksnya sistem kehidupan yang membentuk hubungan antara makhluk hidup dengan lingkungan dan makhluk hidup dengan makhluk hidup lain."
      ],
      "metadata": {
        "id": "yJadkUtdwFGi"
      }
    },
    {
      "cell_type": "markdown",
      "source": [
        "# Shannon Index"
      ],
      "metadata": {
        "id": "nh2-W5PKxCRK"
      }
    },
    {
      "cell_type": "code",
      "source": [
        "def shannon_index(df):\n",
        "    total = df['ABUNDANCE'].sum()\n",
        "    proporsi = df.groupby('valid_name')['ABUNDANCE'].sum() / total\n",
        "    return entropy(proporsi, base=2)\n",
        "\n",
        "# Data per zona\n",
        "zona_transisi = colonies[colonies['lokasi'] == 'zona transisi']\n",
        "zona_nontransisi = colonies[colonies['lokasi'] == 'daratan atau laut lepas']\n",
        "\n",
        "# Hitung Shannon Index\n",
        "shannon_transisi = shannon_index(zona_transisi)\n",
        "shannon_nontransisi = shannon_index(zona_nontransisi)\n",
        "\n",
        "print(f\"Shannon Index Zona Transisi: {shannon_transisi:.3f}\")\n",
        "print(f\"Shannon Index Daratan/Laut Lepas: {shannon_nontransisi:.3f}\")"
      ],
      "metadata": {
        "id": "q5AKHQ-exIcB"
      },
      "execution_count": null,
      "outputs": []
    },
    {
      "cell_type": "markdown",
      "source": [
        "Kedua zona memiliki keragaman spesies yang tinggi, sebab Shannon Index mendekati nilai maksimum (rentang 0-4 dalam komunitas burung). Zona daratan/laut lepas memiliki skor yang sedikit lebih tinggi, menandakan sedikit lebih beragam. Namun perbedaan 0.076 sangatlah kecil, sehingga tidak signifikan secara ekologis."
      ],
      "metadata": {
        "id": "eJ9y2beAxWKJ"
      }
    },
    {
      "cell_type": "markdown",
      "source": [
        "# Simpson Index"
      ],
      "metadata": {
        "id": "ceZe0FBVxy_I"
      }
    },
    {
      "cell_type": "code",
      "source": [
        "def simpson_index(df):\n",
        "    total = df['ABUNDANCE'].sum()\n",
        "    proporsi = df.groupby('valid_name')['ABUNDANCE'].sum() / total\n",
        "    D = sum(proporsi**2)\n",
        "    return 1 - D\n",
        "\n",
        "# Hitung Simpson Index per zona\n",
        "simpson_transisi = simpson_index(zona_transisi)\n",
        "simpson_nontransisi = simpson_index(zona_nontransisi)\n",
        "\n",
        "print(f\"Simpson Index Zona Transisi: {simpson_transisi:.3f}\")\n",
        "print(f\"Simpson Index Daratan/Laut Lepas: {simpson_nontransisi:.3f}\")"
      ],
      "metadata": {
        "id": "2wQ9ARbdx915"
      },
      "execution_count": null,
      "outputs": []
    },
    {
      "cell_type": "markdown",
      "source": [
        "Kedua zona memiliki komunitas spesies yang merata, tidak adanya satu jenis spesies yang lebih dominan. Perbedaan 0.004 dinilai sangat kecil antar zona, sehingga secara ekologis memiliki kemiripan dalam hal dominasi."
      ],
      "metadata": {
        "id": "qQ5hIIwOyMpY"
      }
    },
    {
      "cell_type": "markdown",
      "source": [
        "# Perbandingan"
      ],
      "metadata": {
        "id": "13xblEI4ylSa"
      }
    },
    {
      "cell_type": "code",
      "source": [
        "# Data\n",
        "zona = ['Zona Transisi', 'Daratan/Laut Lepas']\n",
        "shannon = [3.908, 3.984]\n",
        "simpson = [0.919, 0.923]\n",
        "\n",
        "plt.figure(figsize=(8, 5))\n",
        "\n",
        "# Plot Shannon Index\n",
        "plt.scatter(zona, shannon, color='blue', s=100, label='Shannon Index', marker='o')\n",
        "for i, val in enumerate(shannon):\n",
        "    plt.text(zona[i], val + 0.02, f'{val:.3f}', ha='center', color='red', fontsize=10)\n",
        "\n",
        "# Plot Simpson Index\n",
        "plt.scatter(zona, simpson, color='green', s=100, label='Simpson Index', marker='^')\n",
        "for i, val in enumerate(simpson):\n",
        "    plt.text(zona[i], val + 0.02, f'{val:.3f}', ha='center', color='red', fontsize=10)\n",
        "\n",
        "# Tampilan\n",
        "plt.ylabel('Nilai Indeks')\n",
        "plt.title('Dot Plot: Shannon & Simpson Index per Zona Habitat')\n",
        "plt.ylim(0.9, 4.05)\n",
        "plt.legend()\n",
        "plt.grid(True, linestyle='--', alpha=0.5)\n",
        "plt.tight_layout()\n",
        "plt.show()\n",
        "\n"
      ],
      "metadata": {
        "id": "gf7CeVQiynnY"
      },
      "execution_count": null,
      "outputs": []
    },
    {
      "cell_type": "markdown",
      "source": [
        "Berdasarkan visualisasi data, pada zona transisi memiliki keragaman tinggi (Shannon index = 3.908), serta sedikit lebih padat dan terpusat (simpson index = 0.919). Sedangkan pada zona daratan/laut lepas juga memiliki keragaman tinggi (shannon index = 3.984), namun komunits lebih merata dan seimbang (simpson index = 0.923). Namun perbedaannya hanya sedikit sekali dan sulit untuk dibandingkan."
      ],
      "metadata": {
        "id": "1a3R9d9q0yAL"
      }
    },
    {
      "cell_type": "markdown",
      "source": [
        "## **4. Visualisasi dan Interpretasi data pengamatan**"
      ],
      "metadata": {
        "id": "ddilY6zj2j1M"
      }
    },
    {
      "cell_type": "code",
      "source": [
        "from folium.plugins import MarkerCluster\n",
        "\n",
        "# Peta dasar\n",
        "m = folium.Map(location=[df['LATITUDE'].mean(), df['LONGITUDE'].mean()], zoom_start=6)\n",
        "\n",
        "# Cluster marker\n",
        "marker_cluster = MarkerCluster().add_to(m)\n",
        "\n",
        "# Titik koloni\n",
        "for _, row in df.iterrows():\n",
        "    folium.CircleMarker(\n",
        "        location=[row['LATITUDE'], row['LONGITUDE']],\n",
        "        radius=min(row['ABUNDANCE'], 10),  # batas radius\n",
        "        color='crimson',\n",
        "        fill=True,\n",
        "        fill_opacity=0.6,\n",
        "        popup=f\"{row['valid_name']} ({row['ABUNDANCE']} individu)\"\n",
        "    ).add_to(marker_cluster)\n",
        "\n",
        "m\n"
      ],
      "metadata": {
        "id": "YogbBfnZ0xV6"
      },
      "execution_count": null,
      "outputs": []
    },
    {
      "cell_type": "markdown",
      "source": [
        "# Cetak Peta"
      ],
      "metadata": {
        "id": "7s5dUOTTKFeM"
      }
    },
    {
      "cell_type": "code",
      "source": [
        "import geopandas as gpd\n",
        "import matplotlib.pyplot as plt\n",
        "from shapely.geometry import Point\n",
        "\n",
        "# Buat GeoDataFrame dari df\n",
        "geometry = [Point(xy) for xy in zip(df['LONGITUDE'], df['LATITUDE'])]\n",
        "colonies = gpd.GeoDataFrame(df, geometry=geometry, crs=\"EPSG:4326\")\n",
        "\n",
        "# Proyeksi ke British National Grid\n",
        "colonies = colonies.to_crs(epsg=27700)\n",
        "\n",
        "# Ukuran marker berdasarkan abundance (dibatasi agar tidak terlalu besar)\n",
        "sizes = colonies['ABUNDANCE'].apply(lambda x: min(x, 10)) * 5\n",
        "\n",
        "# Plot peta\n",
        "fig, ax = plt.subplots(figsize=(10, 8))\n",
        "colonies.plot(ax=ax, markersize=sizes, color='crimson', alpha=0.6)\n",
        "\n",
        "# Zoom ke Britania Raya\n",
        "ax.set_xlim(colonies.geometry.x.min() - 50000, colonies.geometry.x.max() + 50000)\n",
        "ax.set_ylim(colonies.geometry.y.min() - 50000, colonies.geometry.y.max() + 50000)\n",
        "\n",
        "# Styling\n",
        "ax.set_title(\"Peta Statis Koloni Burung Laut (Ukuran Marker = Abundance)\", fontsize=14)\n",
        "ax.set_xlabel(\"Koordinat X (meter)\")\n",
        "ax.set_ylabel(\"Koordinat Y (meter)\")\n",
        "plt.tight_layout()\n",
        "plt.savefig(\"peta_marker_statis.png\", dpi=300)\n",
        "plt.show()\n"
      ],
      "metadata": {
        "id": "7_hJdTeIJ47d"
      },
      "execution_count": null,
      "outputs": []
    },
    {
      "cell_type": "code",
      "source": [
        "# Hitung Shannon Index per lokasi\n",
        "def shannon_per_lokasi(df):\n",
        "    grouped = df.groupby(['LATITUDE', 'LONGITUDE'])\n",
        "    hasil = []\n",
        "    for (lat, lon), group in grouped:\n",
        "        total = group['ABUNDANCE'].sum()\n",
        "        proporsi = group.groupby('valid_name')['ABUNDANCE'].sum() / total\n",
        "        shannon = entropy(proporsi, base=2)\n",
        "        hasil.append({'LATITUDE': lat, 'LONGITUDE': lon, 'SHANNON': shannon})\n",
        "    return pd.DataFrame(hasil)\n",
        "\n",
        "df_shannon = shannon_per_lokasi(df)\n",
        "top5 = df_shannon.sort_values(by='SHANNON', ascending=False).head(5)\n",
        "\n",
        "# Peta titik dengan keragaman tertinggi\n",
        "m2 = folium.Map(location=[df['LATITUDE'].mean(), df['LONGITUDE'].mean()], zoom_start=6)\n",
        "\n",
        "for _, row in top5.iterrows():\n",
        "    folium.Marker(\n",
        "        location=[row['LATITUDE'], row['LONGITUDE']],\n",
        "        popup=f\"Shannon Index: {row['SHANNON']:.3f}\",\n",
        "        icon=folium.Icon(color='green', icon='leaf')\n",
        "    ).add_to(m2)\n",
        "\n",
        "m2\n"
      ],
      "metadata": {
        "id": "GXBSckQO3eZF"
      },
      "execution_count": null,
      "outputs": []
    },
    {
      "cell_type": "code",
      "source": [
        "import geopandas as gpd\n",
        "import matplotlib.pyplot as plt\n",
        "from shapely.geometry import Point\n",
        "from scipy.stats import entropy\n",
        "\n",
        "# Hitung Shannon Index per lokasi\n",
        "def shannon_per_lokasi(df):\n",
        "    grouped = df.groupby(['LATITUDE', 'LONGITUDE'])\n",
        "    hasil = []\n",
        "    for (lat, lon), group in grouped:\n",
        "        total = group['ABUNDANCE'].sum()\n",
        "        proporsi = group.groupby('valid_name')['ABUNDANCE'].sum() / total\n",
        "        shannon = entropy(proporsi, base=2)\n",
        "        hasil.append({'LATITUDE': lat, 'LONGITUDE': lon, 'SHANNON': shannon})\n",
        "    return pd.DataFrame(hasil)\n",
        "\n",
        "# Ambil 5 lokasi tertinggi\n",
        "df_shannon = shannon_per_lokasi(df)\n",
        "top5 = df_shannon.sort_values(by='SHANNON', ascending=False).head(5)\n",
        "\n",
        "# Buat GeoDataFrame\n",
        "geometry = [Point(xy) for xy in zip(top5['LONGITUDE'], top5['LATITUDE'])]\n",
        "top5_gdf = gpd.GeoDataFrame(top5, geometry=geometry, crs=\"EPSG:4326\").to_crs(epsg=27700)\n",
        "\n",
        "# Pastikan coastline sudah dalam EPSG:27700\n",
        "coastline = coastline.to_crs(epsg=27700)\n",
        "\n",
        "# Plot peta\n",
        "fig, ax = plt.subplots(figsize=(10, 8))\n",
        "\n",
        "# Garis pantai\n",
        "coastline.plot(ax=ax, color='lightgray', linewidth=0.5)\n",
        "\n",
        "# Zoom ke area Britania Raya\n",
        "ax.set_xlim(top5_gdf.geometry.x.min() - 50000, top5_gdf.geometry.x.max() + 50000)\n",
        "ax.set_ylim(top5_gdf.geometry.y.min() - 50000, top5_gdf.geometry.y.max() + 50000)\n",
        "\n",
        "# Titik Shannon tertinggi\n",
        "top5_gdf.plot(ax=ax, color='darkgreen', markersize=80)\n",
        "\n",
        "# Label nilai Shannon\n",
        "for idx, row in top5_gdf.iterrows():\n",
        "    ax.text(row.geometry.x + 1000, row.geometry.y + 1000,\n",
        "            f\"{row['SHANNON']:.2f}\", fontsize=10, color='black')\n",
        "\n",
        "# Styling\n",
        "ax.set_title(\"🟢 Lokasi dengan Shannon Index Tertinggi\", fontsize=14)\n",
        "ax.set_xlabel(\"Koordinat X (meter)\")\n",
        "ax.set_ylabel(\"Koordinat Y (meter)\")\n",
        "plt.tight_layout()\n",
        "plt.savefig(\"peta_shannon_coastline.png\", dpi=300)\n",
        "plt.show()\n",
        "\n"
      ],
      "metadata": {
        "id": "GVp6RtLTKT9X"
      },
      "execution_count": null,
      "outputs": []
    }
  ],
  "metadata": {
    "colab": {
      "provenance": [],
      "toc_visible": true
    },
    "kernelspec": {
      "display_name": "Python 3",
      "name": "python3"
    },
    "language_info": {
      "name": "python"
    }
  },
  "nbformat": 4,
  "nbformat_minor": 0
}